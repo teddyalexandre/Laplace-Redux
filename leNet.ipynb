{
  "cells": [
    {
      "cell_type": "code",
      "execution_count": 1,
      "metadata": {
        "colab": {
          "base_uri": "https://localhost:8080/"
        },
        "id": "bxrP9U3IUcOB",
        "outputId": "07e89c3e-a5f9-44a7-ac5b-9a92df5b69e5"
      },
      "outputs": [
        {
          "output_type": "stream",
          "name": "stdout",
          "text": [
            "Collecting laplace-torch\n",
            "  Downloading laplace_torch-0.1a2-py3-none-any.whl (45 kB)\n",
            "\u001b[2K     \u001b[90m━━━━━━━━━━━━━━━━━━━━━━━━━━━━━━━━━━━━━━━━\u001b[0m \u001b[32m45.6/45.6 kB\u001b[0m \u001b[31m1.2 MB/s\u001b[0m eta \u001b[36m0:00:00\u001b[0m\n",
            "\u001b[?25hCollecting wandb\n",
            "  Downloading wandb-0.16.4-py3-none-any.whl (2.2 MB)\n",
            "\u001b[2K     \u001b[90m━━━━━━━━━━━━━━━━━━━━━━━━━━━━━━━━━━━━━━━━\u001b[0m \u001b[32m2.2/2.2 MB\u001b[0m \u001b[31m13.3 MB/s\u001b[0m eta \u001b[36m0:00:00\u001b[0m\n",
            "\u001b[?25hRequirement already satisfied: torch in /usr/local/lib/python3.10/dist-packages (from laplace-torch) (2.2.1+cu121)\n",
            "Requirement already satisfied: torchvision in /usr/local/lib/python3.10/dist-packages (from laplace-torch) (0.17.1+cu121)\n",
            "Requirement already satisfied: torchaudio in /usr/local/lib/python3.10/dist-packages (from laplace-torch) (2.2.1+cu121)\n",
            "Collecting backpack-for-pytorch (from laplace-torch)\n",
            "  Downloading backpack_for_pytorch-1.6.0-py3-none-any.whl (196 kB)\n",
            "\u001b[2K     \u001b[90m━━━━━━━━━━━━━━━━━━━━━━━━━━━━━━━━━━━━━━━━\u001b[0m \u001b[32m196.4/196.4 kB\u001b[0m \u001b[31m16.3 MB/s\u001b[0m eta \u001b[36m0:00:00\u001b[0m\n",
            "\u001b[?25hCollecting asdfghjkl (from laplace-torch)\n",
            "  Downloading asdfghjkl-0.1a2-py3-none-any.whl (38 kB)\n",
            "Requirement already satisfied: Click!=8.0.0,>=7.1 in /usr/local/lib/python3.10/dist-packages (from wandb) (8.1.7)\n",
            "Collecting GitPython!=3.1.29,>=1.0.0 (from wandb)\n",
            "  Downloading GitPython-3.1.42-py3-none-any.whl (195 kB)\n",
            "\u001b[2K     \u001b[90m━━━━━━━━━━━━━━━━━━━━━━━━━━━━━━━━━━━━━━━━\u001b[0m \u001b[32m195.4/195.4 kB\u001b[0m \u001b[31m19.2 MB/s\u001b[0m eta \u001b[36m0:00:00\u001b[0m\n",
            "\u001b[?25hRequirement already satisfied: requests<3,>=2.0.0 in /usr/local/lib/python3.10/dist-packages (from wandb) (2.31.0)\n",
            "Requirement already satisfied: psutil>=5.0.0 in /usr/local/lib/python3.10/dist-packages (from wandb) (5.9.5)\n",
            "Collecting sentry-sdk>=1.0.0 (from wandb)\n",
            "  Downloading sentry_sdk-1.42.0-py2.py3-none-any.whl (263 kB)\n",
            "\u001b[2K     \u001b[90m━━━━━━━━━━━━━━━━━━━━━━━━━━━━━━━━━━━━━━━━\u001b[0m \u001b[32m263.5/263.5 kB\u001b[0m \u001b[31m19.5 MB/s\u001b[0m eta \u001b[36m0:00:00\u001b[0m\n",
            "\u001b[?25hCollecting docker-pycreds>=0.4.0 (from wandb)\n",
            "  Downloading docker_pycreds-0.4.0-py2.py3-none-any.whl (9.0 kB)\n",
            "Requirement already satisfied: PyYAML in /usr/local/lib/python3.10/dist-packages (from wandb) (6.0.1)\n",
            "Collecting setproctitle (from wandb)\n",
            "  Downloading setproctitle-1.3.3-cp310-cp310-manylinux_2_5_x86_64.manylinux1_x86_64.manylinux_2_17_x86_64.manylinux2014_x86_64.whl (30 kB)\n",
            "Requirement already satisfied: setuptools in /usr/local/lib/python3.10/dist-packages (from wandb) (67.7.2)\n",
            "Requirement already satisfied: appdirs>=1.4.3 in /usr/local/lib/python3.10/dist-packages (from wandb) (1.4.4)\n",
            "Requirement already satisfied: protobuf!=4.21.0,<5,>=3.19.0 in /usr/local/lib/python3.10/dist-packages (from wandb) (3.20.3)\n",
            "Requirement already satisfied: six>=1.4.0 in /usr/local/lib/python3.10/dist-packages (from docker-pycreds>=0.4.0->wandb) (1.16.0)\n",
            "Collecting gitdb<5,>=4.0.1 (from GitPython!=3.1.29,>=1.0.0->wandb)\n",
            "  Downloading gitdb-4.0.11-py3-none-any.whl (62 kB)\n",
            "\u001b[2K     \u001b[90m━━━━━━━━━━━━━━━━━━━━━━━━━━━━━━━━━━━━━━━━\u001b[0m \u001b[32m62.7/62.7 kB\u001b[0m \u001b[31m6.6 MB/s\u001b[0m eta \u001b[36m0:00:00\u001b[0m\n",
            "\u001b[?25hRequirement already satisfied: charset-normalizer<4,>=2 in /usr/local/lib/python3.10/dist-packages (from requests<3,>=2.0.0->wandb) (3.3.2)\n",
            "Requirement already satisfied: idna<4,>=2.5 in /usr/local/lib/python3.10/dist-packages (from requests<3,>=2.0.0->wandb) (3.6)\n",
            "Requirement already satisfied: urllib3<3,>=1.21.1 in /usr/local/lib/python3.10/dist-packages (from requests<3,>=2.0.0->wandb) (2.0.7)\n",
            "Requirement already satisfied: certifi>=2017.4.17 in /usr/local/lib/python3.10/dist-packages (from requests<3,>=2.0.0->wandb) (2024.2.2)\n",
            "Requirement already satisfied: filelock in /usr/local/lib/python3.10/dist-packages (from torch->laplace-torch) (3.13.1)\n",
            "Requirement already satisfied: typing-extensions>=4.8.0 in /usr/local/lib/python3.10/dist-packages (from torch->laplace-torch) (4.10.0)\n",
            "Requirement already satisfied: sympy in /usr/local/lib/python3.10/dist-packages (from torch->laplace-torch) (1.12)\n",
            "Requirement already satisfied: networkx in /usr/local/lib/python3.10/dist-packages (from torch->laplace-torch) (3.2.1)\n",
            "Requirement already satisfied: jinja2 in /usr/local/lib/python3.10/dist-packages (from torch->laplace-torch) (3.1.3)\n",
            "Requirement already satisfied: fsspec in /usr/local/lib/python3.10/dist-packages (from torch->laplace-torch) (2023.6.0)\n",
            "Collecting nvidia-cuda-nvrtc-cu12==12.1.105 (from torch->laplace-torch)\n",
            "  Downloading nvidia_cuda_nvrtc_cu12-12.1.105-py3-none-manylinux1_x86_64.whl (23.7 MB)\n",
            "\u001b[2K     \u001b[90m━━━━━━━━━━━━━━━━━━━━━━━━━━━━━━━━━━━━━━━━\u001b[0m \u001b[32m23.7/23.7 MB\u001b[0m \u001b[31m46.2 MB/s\u001b[0m eta \u001b[36m0:00:00\u001b[0m\n",
            "\u001b[?25hCollecting nvidia-cuda-runtime-cu12==12.1.105 (from torch->laplace-torch)\n",
            "  Downloading nvidia_cuda_runtime_cu12-12.1.105-py3-none-manylinux1_x86_64.whl (823 kB)\n",
            "\u001b[2K     \u001b[90m━━━━━━━━━━━━━━━━━━━━━━━━━━━━━━━━━━━━━━━━\u001b[0m \u001b[32m823.6/823.6 kB\u001b[0m \u001b[31m27.7 MB/s\u001b[0m eta \u001b[36m0:00:00\u001b[0m\n",
            "\u001b[?25hCollecting nvidia-cuda-cupti-cu12==12.1.105 (from torch->laplace-torch)\n",
            "  Downloading nvidia_cuda_cupti_cu12-12.1.105-py3-none-manylinux1_x86_64.whl (14.1 MB)\n",
            "\u001b[2K     \u001b[90m━━━━━━━━━━━━━━━━━━━━━━━━━━━━━━━━━━━━━━━━\u001b[0m \u001b[32m14.1/14.1 MB\u001b[0m \u001b[31m33.5 MB/s\u001b[0m eta \u001b[36m0:00:00\u001b[0m\n",
            "\u001b[?25hCollecting nvidia-cudnn-cu12==8.9.2.26 (from torch->laplace-torch)\n",
            "  Downloading nvidia_cudnn_cu12-8.9.2.26-py3-none-manylinux1_x86_64.whl (731.7 MB)\n",
            "\u001b[2K     \u001b[90m━━━━━━━━━━━━━━━━━━━━━━━━━━━━━━━━━━━━━━━━\u001b[0m \u001b[32m731.7/731.7 MB\u001b[0m \u001b[31m1.1 MB/s\u001b[0m eta \u001b[36m0:00:00\u001b[0m\n",
            "\u001b[?25hCollecting nvidia-cublas-cu12==12.1.3.1 (from torch->laplace-torch)\n",
            "  Downloading nvidia_cublas_cu12-12.1.3.1-py3-none-manylinux1_x86_64.whl (410.6 MB)\n",
            "\u001b[2K     \u001b[90m━━━━━━━━━━━━━━━━━━━━━━━━━━━━━━━━━━━━━━━━\u001b[0m \u001b[32m410.6/410.6 MB\u001b[0m \u001b[31m2.2 MB/s\u001b[0m eta \u001b[36m0:00:00\u001b[0m\n",
            "\u001b[?25hCollecting nvidia-cufft-cu12==11.0.2.54 (from torch->laplace-torch)\n",
            "  Downloading nvidia_cufft_cu12-11.0.2.54-py3-none-manylinux1_x86_64.whl (121.6 MB)\n",
            "\u001b[2K     \u001b[90m━━━━━━━━━━━━━━━━━━━━━━━━━━━━━━━━━━━━━━━━\u001b[0m \u001b[32m121.6/121.6 MB\u001b[0m \u001b[31m8.4 MB/s\u001b[0m eta \u001b[36m0:00:00\u001b[0m\n",
            "\u001b[?25hCollecting nvidia-curand-cu12==10.3.2.106 (from torch->laplace-torch)\n",
            "  Downloading nvidia_curand_cu12-10.3.2.106-py3-none-manylinux1_x86_64.whl (56.5 MB)\n",
            "\u001b[2K     \u001b[90m━━━━━━━━━━━━━━━━━━━━━━━━━━━━━━━━━━━━━━━━\u001b[0m \u001b[32m56.5/56.5 MB\u001b[0m \u001b[31m14.9 MB/s\u001b[0m eta \u001b[36m0:00:00\u001b[0m\n",
            "\u001b[?25hCollecting nvidia-cusolver-cu12==11.4.5.107 (from torch->laplace-torch)\n",
            "  Downloading nvidia_cusolver_cu12-11.4.5.107-py3-none-manylinux1_x86_64.whl (124.2 MB)\n",
            "\u001b[2K     \u001b[90m━━━━━━━━━━━━━━━━━━━━━━━━━━━━━━━━━━━━━━━━\u001b[0m \u001b[32m124.2/124.2 MB\u001b[0m \u001b[31m8.2 MB/s\u001b[0m eta \u001b[36m0:00:00\u001b[0m\n",
            "\u001b[?25hCollecting nvidia-cusparse-cu12==12.1.0.106 (from torch->laplace-torch)\n",
            "  Downloading nvidia_cusparse_cu12-12.1.0.106-py3-none-manylinux1_x86_64.whl (196.0 MB)\n",
            "\u001b[2K     \u001b[90m━━━━━━━━━━━━━━━━━━━━━━━━━━━━━━━━━━━━━━━━\u001b[0m \u001b[32m196.0/196.0 MB\u001b[0m \u001b[31m6.6 MB/s\u001b[0m eta \u001b[36m0:00:00\u001b[0m\n",
            "\u001b[?25hCollecting nvidia-nccl-cu12==2.19.3 (from torch->laplace-torch)\n",
            "  Downloading nvidia_nccl_cu12-2.19.3-py3-none-manylinux1_x86_64.whl (166.0 MB)\n",
            "\u001b[2K     \u001b[90m━━━━━━━━━━━━━━━━━━━━━━━━━━━━━━━━━━━━━━━━\u001b[0m \u001b[32m166.0/166.0 MB\u001b[0m \u001b[31m7.4 MB/s\u001b[0m eta \u001b[36m0:00:00\u001b[0m\n",
            "\u001b[?25hCollecting nvidia-nvtx-cu12==12.1.105 (from torch->laplace-torch)\n",
            "  Downloading nvidia_nvtx_cu12-12.1.105-py3-none-manylinux1_x86_64.whl (99 kB)\n",
            "\u001b[2K     \u001b[90m━━━━━━━━━━━━━━━━━━━━━━━━━━━━━━━━━━━━━━━━\u001b[0m \u001b[32m99.1/99.1 kB\u001b[0m \u001b[31m14.4 MB/s\u001b[0m eta \u001b[36m0:00:00\u001b[0m\n",
            "\u001b[?25hRequirement already satisfied: triton==2.2.0 in /usr/local/lib/python3.10/dist-packages (from torch->laplace-torch) (2.2.0)\n",
            "Collecting nvidia-nvjitlink-cu12 (from nvidia-cusolver-cu12==11.4.5.107->torch->laplace-torch)\n",
            "  Downloading nvidia_nvjitlink_cu12-12.4.99-py3-none-manylinux2014_x86_64.whl (21.1 MB)\n",
            "\u001b[2K     \u001b[90m━━━━━━━━━━━━━━━━━━━━━━━━━━━━━━━━━━━━━━━━\u001b[0m \u001b[32m21.1/21.1 MB\u001b[0m \u001b[31m71.9 MB/s\u001b[0m eta \u001b[36m0:00:00\u001b[0m\n",
            "\u001b[?25hCollecting einops<1.0.0,>=0.3.0 (from backpack-for-pytorch->laplace-torch)\n",
            "  Downloading einops-0.7.0-py3-none-any.whl (44 kB)\n",
            "\u001b[2K     \u001b[90m━━━━━━━━━━━━━━━━━━━━━━━━━━━━━━━━━━━━━━━━\u001b[0m \u001b[32m44.6/44.6 kB\u001b[0m \u001b[31m6.7 MB/s\u001b[0m eta \u001b[36m0:00:00\u001b[0m\n",
            "\u001b[?25hCollecting unfoldNd<1.0.0,>=0.2.0 (from backpack-for-pytorch->laplace-torch)\n",
            "  Downloading unfoldNd-0.2.1-py3-none-any.whl (16 kB)\n",
            "Requirement already satisfied: numpy in /usr/local/lib/python3.10/dist-packages (from torchvision->laplace-torch) (1.25.2)\n",
            "Requirement already satisfied: pillow!=8.3.*,>=5.3.0 in /usr/local/lib/python3.10/dist-packages (from torchvision->laplace-torch) (9.4.0)\n",
            "Collecting smmap<6,>=3.0.1 (from gitdb<5,>=4.0.1->GitPython!=3.1.29,>=1.0.0->wandb)\n",
            "  Downloading smmap-5.0.1-py3-none-any.whl (24 kB)\n",
            "Requirement already satisfied: MarkupSafe>=2.0 in /usr/local/lib/python3.10/dist-packages (from jinja2->torch->laplace-torch) (2.1.5)\n",
            "Requirement already satisfied: mpmath>=0.19 in /usr/local/lib/python3.10/dist-packages (from sympy->torch->laplace-torch) (1.3.0)\n",
            "Installing collected packages: smmap, setproctitle, sentry-sdk, nvidia-nvtx-cu12, nvidia-nvjitlink-cu12, nvidia-nccl-cu12, nvidia-curand-cu12, nvidia-cufft-cu12, nvidia-cuda-runtime-cu12, nvidia-cuda-nvrtc-cu12, nvidia-cuda-cupti-cu12, nvidia-cublas-cu12, einops, docker-pycreds, nvidia-cusparse-cu12, nvidia-cudnn-cu12, gitdb, nvidia-cusolver-cu12, GitPython, wandb, unfoldNd, asdfghjkl, backpack-for-pytorch, laplace-torch\n",
            "Successfully installed GitPython-3.1.42 asdfghjkl-0.1a2 backpack-for-pytorch-1.6.0 docker-pycreds-0.4.0 einops-0.7.0 gitdb-4.0.11 laplace-torch-0.1a2 nvidia-cublas-cu12-12.1.3.1 nvidia-cuda-cupti-cu12-12.1.105 nvidia-cuda-nvrtc-cu12-12.1.105 nvidia-cuda-runtime-cu12-12.1.105 nvidia-cudnn-cu12-8.9.2.26 nvidia-cufft-cu12-11.0.2.54 nvidia-curand-cu12-10.3.2.106 nvidia-cusolver-cu12-11.4.5.107 nvidia-cusparse-cu12-12.1.0.106 nvidia-nccl-cu12-2.19.3 nvidia-nvjitlink-cu12-12.4.99 nvidia-nvtx-cu12-12.1.105 sentry-sdk-1.42.0 setproctitle-1.3.3 smmap-5.0.1 unfoldNd-0.2.1 wandb-0.16.4\n"
          ]
        }
      ],
      "source": [
        "pip install laplace-torch wandb"
      ]
    },
    {
      "cell_type": "code",
      "execution_count": 44,
      "metadata": {
        "id": "Jc54npkcURTC"
      },
      "outputs": [],
      "source": [
        "import matplotlib.pyplot as plt\n",
        "import numpy as np\n",
        "import time\n",
        "from datetime import datetime\n",
        "from copy import deepcopy\n",
        "\n",
        "import torch\n",
        "import torchvision\n",
        "import torch.nn as nn\n",
        "import torch.nn.functional as F\n",
        "import torchvision.transforms as transforms\n",
        "from torchvision import utils\n",
        "from torch.optim import Adam\n",
        "from torch.nn import CrossEntropyLoss, MSELoss\n",
        "from torch.nn.utils import parameters_to_vector, vector_to_parameters\n",
        "\n",
        "\n",
        "from laplace import Laplace, marglik_training\n",
        "from laplace.utils import expand_prior_precision\n",
        "from laplace.curvature import AsdlGGN, BackPackGGN\n"
      ]
    },
    {
      "cell_type": "markdown",
      "metadata": {
        "id": "pUdYnro7JBn1"
      },
      "source": [
        "Below we train a Convolutional Neural Network (CNN) using a standard frequentist approach and the Laplace approximation."
      ]
    },
    {
      "cell_type": "markdown",
      "metadata": {
        "id": "ZkWZWteGURTE"
      },
      "source": [
        "# Vanilla LeNet"
      ]
    },
    {
      "cell_type": "markdown",
      "metadata": {
        "id": "w0I8WHurURTG"
      },
      "source": [
        "## F-MNIST\n",
        "\n",
        "Following the authors' work we choose Fashion-MNIST dataset as a benchmark."
      ]
    },
    {
      "cell_type": "code",
      "execution_count": 3,
      "metadata": {
        "colab": {
          "base_uri": "https://localhost:8080/",
          "height": 125
        },
        "id": "u3-HLkN0URTH",
        "outputId": "149637f6-e4ba-4641-84e8-ae81350a42fa"
      },
      "outputs": [
        {
          "output_type": "display_data",
          "data": {
            "text/plain": [
              "<IPython.core.display.Javascript object>"
            ],
            "application/javascript": [
              "\n",
              "        window._wandbApiKey = new Promise((resolve, reject) => {\n",
              "            function loadScript(url) {\n",
              "            return new Promise(function(resolve, reject) {\n",
              "                let newScript = document.createElement(\"script\");\n",
              "                newScript.onerror = reject;\n",
              "                newScript.onload = resolve;\n",
              "                document.body.appendChild(newScript);\n",
              "                newScript.src = url;\n",
              "            });\n",
              "            }\n",
              "            loadScript(\"https://cdn.jsdelivr.net/npm/postmate/build/postmate.min.js\").then(() => {\n",
              "            const iframe = document.createElement('iframe')\n",
              "            iframe.style.cssText = \"width:0;height:0;border:none\"\n",
              "            document.body.appendChild(iframe)\n",
              "            const handshake = new Postmate({\n",
              "                container: iframe,\n",
              "                url: 'https://wandb.ai/authorize'\n",
              "            });\n",
              "            const timeout = setTimeout(() => reject(\"Couldn't auto authenticate\"), 5000)\n",
              "            handshake.then(function(child) {\n",
              "                child.on('authorize', data => {\n",
              "                    clearTimeout(timeout)\n",
              "                    resolve(data)\n",
              "                });\n",
              "            });\n",
              "            })\n",
              "        });\n",
              "    "
            ]
          },
          "metadata": {}
        },
        {
          "output_type": "stream",
          "name": "stderr",
          "text": [
            "\u001b[34m\u001b[1mwandb\u001b[0m: Logging into wandb.ai. (Learn how to deploy a W&B server locally: https://wandb.me/wandb-server)\n",
            "\u001b[34m\u001b[1mwandb\u001b[0m: You can find your API key in your browser here: https://wandb.ai/authorize\n",
            "wandb: Paste an API key from your profile and hit enter, or press ctrl+c to quit:"
          ]
        },
        {
          "name": "stdout",
          "output_type": "stream",
          "text": [
            " ··········\n"
          ]
        },
        {
          "output_type": "stream",
          "name": "stderr",
          "text": [
            "\u001b[34m\u001b[1mwandb\u001b[0m: Appending key for api.wandb.ai to your netrc file: /root/.netrc\n"
          ]
        },
        {
          "output_type": "execute_result",
          "data": {
            "text/plain": [
              "True"
            ]
          },
          "metadata": {},
          "execution_count": 3
        }
      ],
      "source": [
        "import wandb\n",
        "\n",
        "# Added support for weights and biases logging\n",
        "wandb.login()"
      ]
    },
    {
      "cell_type": "code",
      "execution_count": 4,
      "metadata": {
        "colab": {
          "base_uri": "https://localhost:8080/"
        },
        "id": "bJg9NGJTURTH",
        "outputId": "61862a2f-416b-4882-f8bc-03f5f93cfefe"
      },
      "outputs": [
        {
          "output_type": "stream",
          "name": "stdout",
          "text": [
            "device: cuda\n",
            "Downloading http://fashion-mnist.s3-website.eu-central-1.amazonaws.com/train-images-idx3-ubyte.gz\n",
            "Downloading http://fashion-mnist.s3-website.eu-central-1.amazonaws.com/train-images-idx3-ubyte.gz to ./data/FashionMNIST/raw/train-images-idx3-ubyte.gz\n"
          ]
        },
        {
          "output_type": "stream",
          "name": "stderr",
          "text": [
            "100%|██████████| 26421880/26421880 [00:02<00:00, 11700994.78it/s]\n"
          ]
        },
        {
          "output_type": "stream",
          "name": "stdout",
          "text": [
            "Extracting ./data/FashionMNIST/raw/train-images-idx3-ubyte.gz to ./data/FashionMNIST/raw\n",
            "\n",
            "Downloading http://fashion-mnist.s3-website.eu-central-1.amazonaws.com/train-labels-idx1-ubyte.gz\n",
            "Downloading http://fashion-mnist.s3-website.eu-central-1.amazonaws.com/train-labels-idx1-ubyte.gz to ./data/FashionMNIST/raw/train-labels-idx1-ubyte.gz\n"
          ]
        },
        {
          "output_type": "stream",
          "name": "stderr",
          "text": [
            "100%|██████████| 29515/29515 [00:00<00:00, 201154.79it/s]\n"
          ]
        },
        {
          "output_type": "stream",
          "name": "stdout",
          "text": [
            "Extracting ./data/FashionMNIST/raw/train-labels-idx1-ubyte.gz to ./data/FashionMNIST/raw\n",
            "\n",
            "Downloading http://fashion-mnist.s3-website.eu-central-1.amazonaws.com/t10k-images-idx3-ubyte.gz\n",
            "Downloading http://fashion-mnist.s3-website.eu-central-1.amazonaws.com/t10k-images-idx3-ubyte.gz to ./data/FashionMNIST/raw/t10k-images-idx3-ubyte.gz\n"
          ]
        },
        {
          "output_type": "stream",
          "name": "stderr",
          "text": [
            "100%|██████████| 4422102/4422102 [00:01<00:00, 3757641.62it/s]\n"
          ]
        },
        {
          "output_type": "stream",
          "name": "stdout",
          "text": [
            "Extracting ./data/FashionMNIST/raw/t10k-images-idx3-ubyte.gz to ./data/FashionMNIST/raw\n",
            "\n",
            "Downloading http://fashion-mnist.s3-website.eu-central-1.amazonaws.com/t10k-labels-idx1-ubyte.gz\n",
            "Downloading http://fashion-mnist.s3-website.eu-central-1.amazonaws.com/t10k-labels-idx1-ubyte.gz to ./data/FashionMNIST/raw/t10k-labels-idx1-ubyte.gz\n"
          ]
        },
        {
          "output_type": "stream",
          "name": "stderr",
          "text": [
            "100%|██████████| 5148/5148 [00:00<00:00, 20048539.45it/s]"
          ]
        },
        {
          "output_type": "stream",
          "name": "stdout",
          "text": [
            "Extracting ./data/FashionMNIST/raw/t10k-labels-idx1-ubyte.gz to ./data/FashionMNIST/raw\n",
            "\n",
            "Training set has 60000 instances\n",
            "Validation set has 10000 instances\n"
          ]
        },
        {
          "output_type": "stream",
          "name": "stderr",
          "text": [
            "\n"
          ]
        }
      ],
      "source": [
        "transform = transforms.Compose(\n",
        "    [transforms.ToTensor(),\n",
        "    transforms.Normalize((0.5,), (0.5,))])\n",
        "\n",
        "batch_size = 4\n",
        "\n",
        "device = torch.device(\n",
        "    \"cuda\") if torch.cuda.is_available() else torch.device(\"cpu\")\n",
        "print(f\"device: {device}\" )\n",
        "\n",
        "training_set = torchvision.datasets.FashionMNIST('./data', train=True,\n",
        "                                                 transform=transform,\n",
        "                                                 download=True,\n",
        "                                                 )\n",
        "validation_set = torchvision.datasets.FashionMNIST('./data',\n",
        "                                                   train=False,\n",
        "                                                   transform=transform,\n",
        "                                                   download=True)\n",
        "\n",
        "training_loader = torch.utils.data.DataLoader(training_set,\n",
        "                                              batch_size=batch_size,\n",
        "                                              num_workers=0,\n",
        "                                              shuffle=True)\n",
        "validation_loader = torch.utils.data.DataLoader(validation_set,\n",
        "                                                batch_size=batch_size,\n",
        "                                                num_workers=0,\n",
        "                                                shuffle=False)\n",
        "\n",
        "# Class labels\n",
        "classes = ('T-shirt/top', 'Trouser', 'Pullover', 'Dress', 'Coat',\n",
        "        'Sandal', 'Shirt', 'Sneaker', 'Bag', 'Ankle Boot')\n",
        "\n",
        "print('Training set has {} instances'.format(len(training_set)))\n",
        "print('Validation set has {} instances'.format(len(validation_set)))"
      ]
    },
    {
      "cell_type": "code",
      "execution_count": 5,
      "metadata": {
        "colab": {
          "base_uri": "https://localhost:8080/",
          "height": 620
        },
        "id": "1WOYIldKURTJ",
        "outputId": "a7c5e8db-2a3f-4894-eafb-06b905f60312"
      },
      "outputs": [
        {
          "output_type": "display_data",
          "data": {
            "text/plain": [
              "<Figure size 700x700 with 4 Axes>"
            ],
            "image/png": "[encoded data removed]"
          },
          "metadata": {}
        }
      ],
      "source": [
        "data, labels = next(iter(training_loader))\n",
        "plt.figure(figsize=(7, 7))\n",
        "for i, im in enumerate(data):\n",
        "    plt.subplot(2, 2, i+1)\n",
        "    plt.xlabel(classes[labels[i]])\n",
        "    plt.imshow(im.reshape(28, 28, 1), cmap=plt.cm.binary)\n",
        "plt.show()"
      ]
    },
    {
      "cell_type": "markdown",
      "metadata": {
        "id": "SmRDU8PjURTJ"
      },
      "source": [
        "## The model\n",
        "\n",
        "We use a standard implementation of LeNet suggested by LeCun et al (1998). This CNN is lightweight and achieves decent performance on Fashion-MNIST. The same network was used by the authors to compare performance of Laplace with different approximations of the Hessian."
      ]
    },
    {
      "cell_type": "code",
      "execution_count": 6,
      "metadata": {
        "id": "JU5M4s0fURTK"
      },
      "outputs": [],
      "source": [
        "class LeNet(nn.Module):\n",
        "    def __init__(self, n_classes=10):\n",
        "        super(LeNet, self).__init__()\n",
        "        self.conv1 = nn.Conv2d(1, 6, 5)\n",
        "        self.pool = nn.MaxPool2d(2, 2)\n",
        "        self.conv2 = nn.Conv2d(6, 16, 5)\n",
        "        self.fc1 = nn.Linear(16 * 4 * 4, 120)\n",
        "        self.fc2 = nn.Linear(120, 84)\n",
        "        self.fc3 = nn.Linear(84, n_classes)\n",
        "\n",
        "    def forward(self, x):\n",
        "        x = self.pool(F.relu(self.conv1(x)))\n",
        "        x = self.pool(F.relu(self.conv2(x)))\n",
        "        x = x.view(-1, 16 * 4 * 4)\n",
        "        x = F.relu(self.fc1(x))\n",
        "        x = F.relu(self.fc2(x))\n",
        "        x = self.fc3(x)\n",
        "        return x\n"
      ]
    },
    {
      "cell_type": "markdown",
      "metadata": {
        "id": "GFg1CakTJBn4"
      },
      "source": [
        "First we train the model with the standard frequentist approach. To preserve the idea of an implicit prior we add a weight decay term ($l_2$ regularisation ). It should be noted that the default implementation of weight decay in the Adam optimiser is different from adding a penalty term to the loss function. Thus, we use the AdamW optimiser that fixes weight decay in Adam. This does not impact the performance of our model in any significant way."
      ]
    },
    {
      "cell_type": "code",
      "execution_count": 7,
      "metadata": {
        "id": "Haw38wgbURTM"
      },
      "outputs": [],
      "source": [
        "def train_one_epoch(epoch_index, wandb_run=None):\n",
        "    running_loss = 0.\n",
        "    last_loss = 0.\n",
        "\n",
        "    for i, data in enumerate(training_loader):\n",
        "        optimizer.zero_grad()\n",
        "\n",
        "        inputs, labels = data\n",
        "        inputs = inputs.to(device)\n",
        "        labels = labels.to(device)\n",
        "        outputs = model(inputs)\n",
        "\n",
        "        loss = loss_fn(outputs, labels)\n",
        "        loss.backward()\n",
        "\n",
        "        optimizer.step()\n",
        "        scheduler.step()\n",
        "\n",
        "        running_loss += loss.item()\n",
        "        if i % 1000 == 999:\n",
        "            last_loss = running_loss / 1000\n",
        "            print('  batch {} loss: {}'.format(i + 1, last_loss))\n",
        "            # wandb_run.log(f\" batch {i+1} loss: {last_loss}\")\n",
        "            running_loss = 0.\n",
        "\n",
        "    return last_loss"
      ]
    },
    {
      "cell_type": "code",
      "execution_count": 12,
      "metadata": {
        "id": "DplsfGXjm1ui",
        "colab": {
          "base_uri": "https://localhost:8080/"
        },
        "outputId": "fe10eec9-e193-4685-9928-1220953e8451"
      },
      "outputs": [
        {
          "output_type": "stream",
          "name": "stdout",
          "text": [
            "cuda\n"
          ]
        }
      ],
      "source": [
        "\n",
        "EPOCHS = 5\n",
        "learning_rate = 0.001\n",
        "n_steps = EPOCHS*len(training_loader)\n",
        "lr_min = 1e-6\n",
        "model = LeNet(n_classes=10).to(device)\n",
        "print(device)"
      ]
    },
    {
      "cell_type": "code",
      "source": [
        "next(model.parameters()).device"
      ],
      "metadata": {
        "colab": {
          "base_uri": "https://localhost:8080/"
        },
        "id": "y192q5dyLvZY",
        "outputId": "0eb5740c-cbe6-4e35-ddb8-7481db0384ed"
      },
      "execution_count": 13,
      "outputs": [
        {
          "output_type": "execute_result",
          "data": {
            "text/plain": [
              "device(type='cuda', index=0)"
            ]
          },
          "metadata": {},
          "execution_count": 13
        }
      ]
    },
    {
      "cell_type": "code",
      "execution_count": 14,
      "metadata": {
        "colab": {
          "base_uri": "https://localhost:8080/",
          "height": 1000
        },
        "id": "N-YULBqRURTM",
        "outputId": "633300fa-e59f-48c8-86b7-26944b01f961"
      },
      "outputs": [
        {
          "output_type": "stream",
          "name": "stderr",
          "text": [
            "\u001b[34m\u001b[1mwandb\u001b[0m: Currently logged in as: \u001b[33mexexeye\u001b[0m. Use \u001b[1m`wandb login --relogin`\u001b[0m to force relogin\n"
          ]
        },
        {
          "output_type": "display_data",
          "data": {
            "text/plain": [
              "<IPython.core.display.HTML object>"
            ],
            "text/html": [
              "Tracking run with wandb version 0.16.4"
            ]
          },
          "metadata": {}
        },
        {
          "output_type": "display_data",
          "data": {
            "text/plain": [
              "<IPython.core.display.HTML object>"
            ],
            "text/html": [
              "Run data is saved locally in <code>/content/wandb/run-20240314_133808-4q2srjkk</code>"
            ]
          },
          "metadata": {}
        },
        {
          "output_type": "display_data",
          "data": {
            "text/plain": [
              "<IPython.core.display.HTML object>"
            ],
            "text/html": [
              "Syncing run <strong><a href='https://wandb.ai/exexeye/Bayesian-ML/runs/4q2srjkk' target=\"_blank\">boysenberry-cake-31</a></strong> to <a href='https://wandb.ai/exexeye/Bayesian-ML' target=\"_blank\">Weights & Biases</a> (<a href='https://wandb.me/run' target=\"_blank\">docs</a>)<br/>"
            ]
          },
          "metadata": {}
        },
        {
          "output_type": "display_data",
          "data": {
            "text/plain": [
              "<IPython.core.display.HTML object>"
            ],
            "text/html": [
              " View project at <a href='https://wandb.ai/exexeye/Bayesian-ML' target=\"_blank\">https://wandb.ai/exexeye/Bayesian-ML</a>"
            ]
          },
          "metadata": {}
        },
        {
          "output_type": "display_data",
          "data": {
            "text/plain": [
              "<IPython.core.display.HTML object>"
            ],
            "text/html": [
              " View run at <a href='https://wandb.ai/exexeye/Bayesian-ML/runs/4q2srjkk' target=\"_blank\">https://wandb.ai/exexeye/Bayesian-ML/runs/4q2srjkk</a>"
            ]
          },
          "metadata": {}
        },
        {
          "output_type": "stream",
          "name": "stdout",
          "text": [
            "EPOCH 1:\n",
            "  batch 1000 loss: 0.9143196674427018\n",
            "  batch 2000 loss: 0.6371281396825798\n",
            "  batch 3000 loss: 0.5916590010458603\n",
            "  batch 4000 loss: 0.5305320320195751\n",
            "  batch 5000 loss: 0.49690159504767506\n",
            "  batch 6000 loss: 0.464377508393547\n",
            "  batch 7000 loss: 0.41782327256450663\n",
            "  batch 8000 loss: 0.42010562783333444\n",
            "  batch 9000 loss: 0.4311259821094864\n",
            "  batch 10000 loss: 0.3843125059637241\n",
            "  batch 11000 loss: 0.40028357148326177\n",
            "  batch 12000 loss: 0.37715247321676\n",
            "  batch 13000 loss: 0.41158718394591415\n",
            "  batch 14000 loss: 0.3653044395861216\n",
            "  batch 15000 loss: 0.392791618779303\n",
            "LOSS train 0.392791618779303 valid 0.3797222375869751 acc 0.866599977016449\n",
            "EPOCH 2:\n",
            "  batch 1000 loss: 0.3585215954634805\n",
            "  batch 2000 loss: 0.3405762918037799\n",
            "  batch 3000 loss: 0.35562511971632194\n",
            "  batch 4000 loss: 0.3408849791988032\n",
            "  batch 5000 loss: 0.32995920696675696\n",
            "  batch 6000 loss: 0.34172373547131246\n",
            "  batch 7000 loss: 0.35078143278432256\n",
            "  batch 8000 loss: 0.33982584472439337\n",
            "  batch 9000 loss: 0.33139391818997777\n",
            "  batch 10000 loss: 0.32653768183434057\n",
            "  batch 11000 loss: 0.3246156727369471\n",
            "  batch 12000 loss: 0.31246419425082966\n",
            "  batch 13000 loss: 0.3444546632616802\n",
            "  batch 14000 loss: 0.29916274991908687\n",
            "  batch 15000 loss: 0.33125653504348657\n",
            "LOSS train 0.33125653504348657 valid 0.3298499286174774 acc 0.8792999982833862\n",
            "EPOCH 3:\n",
            "  batch 1000 loss: 0.2972026916834616\n",
            "  batch 2000 loss: 0.2931357809218953\n",
            "  batch 3000 loss: 0.29950147002612404\n",
            "  batch 4000 loss: 0.295776458088696\n",
            "  batch 5000 loss: 0.27897590686684104\n",
            "  batch 6000 loss: 0.2874627330908797\n",
            "  batch 7000 loss: 0.2872654861995652\n",
            "  batch 8000 loss: 0.2753450477160269\n",
            "  batch 9000 loss: 0.2760745755489395\n",
            "  batch 10000 loss: 0.27382911258286297\n",
            "  batch 11000 loss: 0.28459197560569965\n",
            "  batch 12000 loss: 0.28217905753799766\n",
            "  batch 13000 loss: 0.27917859568952896\n",
            "  batch 14000 loss: 0.2629418220060679\n",
            "  batch 15000 loss: 0.24064440070857382\n",
            "LOSS train 0.24064440070857382 valid 0.31601542234420776 acc 0.8842999935150146\n",
            "EPOCH 4:\n",
            "  batch 1000 loss: 0.2314620236587175\n",
            "  batch 2000 loss: 0.23858331360467225\n",
            "  batch 3000 loss: 0.25089563114274993\n",
            "  batch 4000 loss: 0.2394494989390521\n",
            "  batch 5000 loss: 0.2201405238506859\n",
            "  batch 6000 loss: 0.2369270467342243\n",
            "  batch 7000 loss: 0.24088621766185353\n",
            "  batch 8000 loss: 0.22531723336604845\n",
            "  batch 9000 loss: 0.22925555061806427\n",
            "  batch 10000 loss: 0.2506666189032987\n",
            "  batch 11000 loss: 0.2314123737000385\n",
            "  batch 12000 loss: 0.2433166693265826\n",
            "  batch 13000 loss: 0.2144947067593662\n",
            "  batch 14000 loss: 0.2401808127095204\n",
            "  batch 15000 loss: 0.23521402606864217\n",
            "LOSS train 0.23521402606864217 valid 0.289419949054718 acc 0.8951999545097351\n",
            "EPOCH 5:\n",
            "  batch 1000 loss: 0.19071481486449246\n",
            "  batch 2000 loss: 0.2166880986630936\n",
            "  batch 3000 loss: 0.22266174029062905\n",
            "  batch 4000 loss: 0.2202385809092239\n",
            "  batch 5000 loss: 0.18613427362195625\n",
            "  batch 6000 loss: 0.2106902786267999\n",
            "  batch 7000 loss: 0.19658897958145496\n",
            "  batch 8000 loss: 0.19462367058481272\n",
            "  batch 9000 loss: 0.21328995580879417\n",
            "  batch 10000 loss: 0.20488437053143935\n",
            "  batch 11000 loss: 0.20395022737485935\n",
            "  batch 12000 loss: 0.20832993546050158\n",
            "  batch 13000 loss: 0.19281102170416223\n",
            "  batch 14000 loss: 0.2152157892715483\n",
            "  batch 15000 loss: 0.20463033516997542\n",
            "LOSS train 0.20463033516997542 valid 0.29195156693458557 acc 0.8965999484062195\n"
          ]
        }
      ],
      "source": [
        "timestamp = datetime.now().strftime('%Y%m%d_%H%M%S')\n",
        "epoch_number = 0\n",
        "\n",
        "loss_fn = torch.nn.CrossEntropyLoss()\n",
        "wd = 0.5/len(training_loader.dataset)\n",
        "optimizer = torch.optim.AdamW(model.parameters(), lr=learning_rate, weight_decay=wd)\n",
        "scheduler = torch.optim.lr_scheduler.CosineAnnealingLR(optimizer, n_steps, eta_min=lr_min)\n",
        "best_vloss = 1_000_000.\n",
        "times = []\n",
        "\n",
        "# run=None\n",
        "run = wandb.init(\n",
        "    project=\"Bayesian-ML\",\n",
        "\n",
        "    config={\n",
        "        \"model\" : \"Vanilla\",\n",
        "        \"device\" : device,\n",
        "        \"learning_rate\": learning_rate,\n",
        "        \"epochs\": EPOCHS,\n",
        "        \"min_lr\": lr_min,\n",
        "        \"T_max\" : n_steps,\n",
        "        \"weight decay\" : wd\n",
        "        }\n",
        "    )\n",
        "\n",
        "for epoch in range(EPOCHS):\n",
        "    print('EPOCH {}:'.format(epoch_number + 1))\n",
        "\n",
        "    model.train(True)\n",
        "    t0 = time.time()\n",
        "    avg_loss = train_one_epoch(epoch_number, run)\n",
        "    t1 = time.time()\n",
        "    times.append(t1-t0)\n",
        "    run.log({\"trainig time\" : times[-1]}, commit=False)\n",
        "    running_vloss = 0.0\n",
        "    model.eval()\n",
        "\n",
        "    with torch.no_grad():\n",
        "        correct = torch.Tensor().to(device)\n",
        "        for i, vdata in enumerate(validation_loader):\n",
        "            vinputs, vlabels = vdata\n",
        "            vinputs = vinputs.to(device)\n",
        "            vlabels = vlabels.to(device)\n",
        "            voutputs = model(vinputs)\n",
        "            vloss = loss_fn(voutputs, vlabels)\n",
        "            running_vloss += vloss\n",
        "            voutputs = torch.max(voutputs, dim=1)[1]\n",
        "            correct = torch.cat((correct, voutputs==vlabels))\n",
        "\n",
        "        val_acc = torch.sum(correct)/correct.shape[0]\n",
        "\n",
        "    avg_vloss = running_vloss / (i + 1)\n",
        "    print('LOSS train {} valid {} acc {}'.format(avg_loss, avg_vloss, val_acc))\n",
        "    run.log({\"training loss\" : avg_loss, \"validation loss\" : avg_vloss, \"validation accuracy\" : val_acc}, commit=True)\n",
        "\n",
        "    if avg_vloss < best_vloss:\n",
        "        best_vloss = avg_vloss\n",
        "        #model_path = 'models/model_{}_{}'.format(timestamp, epoch_number)\n",
        "        model_path = 'model_{}_{}'.format(timestamp, epoch_number)\n",
        "        torch.save(model.state_dict(), model_path)\n",
        "\n",
        "    epoch_number += 1"
      ]
    },
    {
      "cell_type": "code",
      "execution_count": 15,
      "metadata": {
        "colab": {
          "base_uri": "https://localhost:8080/",
          "height": 490
        },
        "id": "kzuBoR5kURTN",
        "outputId": "711f50df-8836-4cf6-f5ba-96800d48b9c0"
      },
      "outputs": [
        {
          "output_type": "display_data",
          "data": {
            "text/plain": [
              "<Figure size 640x480 with 1 Axes>"
            ],
            "image/png": "[encoded data removed]"
          },
          "metadata": {}
        },
        {
          "output_type": "stream",
          "name": "stdout",
          "text": [
            "The average training time is: 50.01153879165649\n"
          ]
        }
      ],
      "source": [
        "plt.plot(range(1,6), times)\n",
        "plt.xticks(range(1, 6))\n",
        "plt.xlabel('epoch')\n",
        "plt.ylabel('time (s)')\n",
        "plt.title('Training times per epoch')\n",
        "plt.show()\n",
        "print(f\"The average training time is: {np.mean(times)}\")"
      ]
    },
    {
      "cell_type": "markdown",
      "metadata": {
        "id": "oACxoTydJBn6"
      },
      "source": [
        "### Convolution filters\n",
        "\n",
        "Finally, we display some of the learned convolution filters. The weights are deterministic. They stay unchanged after each call of the cell below."
      ]
    },
    {
      "cell_type": "code",
      "execution_count": 16,
      "metadata": {
        "colab": {
          "base_uri": "https://localhost:8080/",
          "height": 280
        },
        "id": "H30_MWKKURTN",
        "outputId": "9e7eeffc-e34a-436f-ad56-b69bf6eab58e"
      },
      "outputs": [
        {
          "output_type": "display_data",
          "data": {
            "text/plain": [
              "<Figure size 1500x1500 with 1 Axes>"
            ],
            "image/png": "[encoded data removed]"
          },
          "metadata": {}
        }
      ],
      "source": [
        "filters = (model.conv1.weight.clone().cpu())#+model.conv1.bias[:, None, None, None]).clone()\n",
        "out_c, in_c, h, w = filters.shape\n",
        "filters = filters.view(out_c*in_c, -1, h, w)\n",
        "n_col = 16\n",
        "rows = np.min((filters.shape[0] // n_col+1, 32))\n",
        "grid = utils.make_grid(filters, nrow=n_col, normalize=True, padding=1)\n",
        "plt.figure(figsize=(15, 15))\n",
        "plt.imshow(grid.numpy().transpose((1, 2, 0)))\n",
        "plt.show()"
      ]
    },
    {
      "cell_type": "markdown",
      "metadata": {
        "id": "l3X4cU8OURTN"
      },
      "source": [
        "# Bayesian CNN\n",
        "\n",
        "Now we switch to the Bayesian setting and train the same model with online marginal likelihood optimisation method. All of the model's parameters are affected.\n",
        "\n",
        "We measure training times and explore learned convolutional filters."
      ]
    },
    {
      "cell_type": "markdown",
      "metadata": {
        "id": "M-zaBb_YURTP"
      },
      "source": [
        "### Bayesian loop\n",
        "\n",
        "We take the original marginal likelihood training loop and add time logging."
      ]
    },
    {
      "cell_type": "code",
      "execution_count": 24,
      "metadata": {
        "id": "y3iLfS9CURTP"
      },
      "outputs": [],
      "source": [
        "def marglik_training_test(\n",
        "    model,\n",
        "    train_loader,\n",
        "    likelihood='classification',\n",
        "    hessian_structure='kron',\n",
        "    backend=AsdlGGN,\n",
        "    optimizer_cls=Adam,\n",
        "    optimizer_kwargs=None,\n",
        "    scheduler_cls=None,\n",
        "    scheduler_kwargs=None,\n",
        "    n_epochs=300,\n",
        "    lr_hyp=1e-1,\n",
        "    prior_structure='layerwise',\n",
        "    n_epochs_burnin=0,\n",
        "    n_hypersteps=10,\n",
        "    marglik_frequency=1,\n",
        "    prior_prec_init=1.,\n",
        "    sigma_noise_init=1.,\n",
        "    temperature=1.,\n",
        "    wandb_run = None,\n",
        "):\n",
        "    # if 'weight_decay' in optimizer_kwargs:\n",
        "    #     warnings.warn('Weight decay is handled and optimized. Will be set to 0.')\n",
        "    #     optimizer_kwargs['weight_decay'] = 0.0\n",
        "\n",
        "    # get device, data set size N, number of layers H, number of parameters P\n",
        "    device = parameters_to_vector(model.parameters()).device\n",
        "    print(f\"the model is on {device}\")\n",
        "    N = len(train_loader.dataset)\n",
        "    H = len(list(model.parameters()))\n",
        "    P = len(parameters_to_vector(model.parameters()))\n",
        "\n",
        "    times_nn = []\n",
        "    times_laplace_fit = []\n",
        "    times_hypersteps = []\n",
        "\n",
        "    # differentiable hyperparameters\n",
        "    hyperparameters = list()\n",
        "    # prior precision\n",
        "    log_prior_prec_init = np.log(temperature * prior_prec_init)\n",
        "    if prior_structure == 'scalar':\n",
        "        log_prior_prec = log_prior_prec_init * torch.ones(1, device=device)\n",
        "    elif prior_structure == 'layerwise':\n",
        "        log_prior_prec = log_prior_prec_init * torch.ones(H, device=device)\n",
        "    elif prior_structure == 'diagonal':\n",
        "        log_prior_prec = log_prior_prec_init * torch.ones(P, device=device)\n",
        "    else:\n",
        "        raise ValueError(f'Invalid prior structure {prior_structure}')\n",
        "    log_prior_prec.requires_grad = True\n",
        "    hyperparameters.append(log_prior_prec)\n",
        "\n",
        "    # set up loss (and observation noise hyperparam)\n",
        "    if likelihood == 'classification':\n",
        "        criterion = CrossEntropyLoss(reduction='mean')\n",
        "        sigma_noise = 1.\n",
        "    elif likelihood == 'regression':\n",
        "        criterion = MSELoss(reduction='mean')\n",
        "        log_sigma_noise_init = np.log(sigma_noise_init)\n",
        "        log_sigma_noise = log_sigma_noise_init * torch.ones(1, device=device)\n",
        "        log_sigma_noise.requires_grad = True\n",
        "        hyperparameters.append(log_sigma_noise)\n",
        "\n",
        "    # set up model optimizer\n",
        "    if optimizer_kwargs is None:\n",
        "        optimizer_kwargs = dict()\n",
        "    optimizer = optimizer_cls(model.parameters(), **optimizer_kwargs)\n",
        "\n",
        "    # set up learning rate scheduler\n",
        "    if scheduler_cls is not None:\n",
        "        if scheduler_kwargs is None:\n",
        "            scheduler_kwargs = dict()\n",
        "        scheduler = scheduler_cls(optimizer, **scheduler_kwargs)\n",
        "\n",
        "    # set up hyperparameter optimizer\n",
        "    hyper_optimizer = Adam(hyperparameters, lr=lr_hyp)\n",
        "\n",
        "    best_marglik = np.inf\n",
        "    best_model_dict = None\n",
        "    best_precision = None\n",
        "    losses = list()\n",
        "    margliks = list()\n",
        "\n",
        "    for epoch in range(1, n_epochs + 1):\n",
        "        print(f\"epoch {epoch}\")\n",
        "        epoch_loss = 0\n",
        "        epoch_perf = 0\n",
        "\n",
        "        # standard NN training per batch\n",
        "        t0 = time.time()\n",
        "        for i, data in enumerate(train_loader):\n",
        "            X, y = data\n",
        "            X, y = X.to(device), y.to(device)\n",
        "            optimizer.zero_grad()\n",
        "            if likelihood == 'regression':\n",
        "                sigma_noise = torch.exp(log_sigma_noise).detach()\n",
        "                crit_factor = temperature / (2 * sigma_noise.square())\n",
        "            else:\n",
        "                crit_factor = temperature\n",
        "            prior_prec = torch.exp(log_prior_prec).detach()\n",
        "            theta = parameters_to_vector(model.parameters())\n",
        "            delta = expand_prior_precision(prior_prec, model)\n",
        "            f = model(X)\n",
        "            loss = criterion(f, y) + (0.5 * (delta * theta) @ theta) / N / crit_factor\n",
        "            loss.backward()\n",
        "            optimizer.step()\n",
        "            epoch_loss += loss.cpu().item() * len(y)\n",
        "            if likelihood == 'regression':\n",
        "                epoch_perf += (f.detach() - y).square().sum()\n",
        "            else:\n",
        "                epoch_perf += torch.sum(torch.argmax(f.detach(), dim=-1) == y).item()\n",
        "            if scheduler_cls is not None:\n",
        "                scheduler.step()\n",
        "            if i % 1000 == 999:\n",
        "                last_loss = epoch_loss / 1000 # loss per batch\n",
        "                print('  batch {} loss: {}'.format(i + 1, last_loss))\n",
        "\n",
        "        losses.append(epoch_loss / N)\n",
        "\n",
        "\n",
        "        t1 = time.time()\n",
        "        times_nn.append(t1-t0)\n",
        "        print(t1-t0)\n",
        "\n",
        "        # compute validation error to report during training\n",
        "        print(f'MARGLIK[epoch={epoch}]: network training. Loss={losses[-1]:.3f}.' +\n",
        "                     f'Perf={epoch_perf/N:.3f}')\n",
        "\n",
        "        # wandb logging\n",
        "        if wandb_run is not None:\n",
        "            wandb_run.log({\"NN training time\" : times_nn[-1]}, commit=False)\n",
        "            wandb_run.log({\"Training loss\" : losses[-1],\n",
        "                     \"Accuracy\": epoch_perf/N}, commit=False)\n",
        "        # only update hyperparameters every marglik_frequency steps after burnin\n",
        "        if (epoch % marglik_frequency) != 0 or epoch < n_epochs_burnin:\n",
        "            continue\n",
        "\n",
        "        # optimizer hyperparameters by differentiating marglik\n",
        "        # 1. fit laplace approximation\n",
        "\n",
        "        t0 = time.time()\n",
        "        sigma_noise = 1 if likelihood == 'classification' else torch.exp(log_sigma_noise)\n",
        "        prior_prec = torch.exp(log_prior_prec)\n",
        "        lap = Laplace(\n",
        "            model, likelihood, hessian_structure=hessian_structure, sigma_noise=sigma_noise,\n",
        "            prior_precision=prior_prec, temperature=temperature, backend=backend,\n",
        "            subset_of_weights='all'\n",
        "        )\n",
        "\n",
        "        lap.fit(train_loader)\n",
        "        t1 = time.time()\n",
        "\n",
        "\n",
        "        times_laplace_fit.append(t1- t0)\n",
        "        if wandb_run is not None:\n",
        "            wandb_run.log({\"Laplace fit time\" : times_laplace_fit[-1]}, commit=False)\n",
        "\n",
        "\n",
        "        # 2. differentiate wrt. hyperparameters for n_hypersteps\n",
        "        t0 = time.time()\n",
        "        for _ in range(n_hypersteps):\n",
        "            hyper_optimizer.zero_grad()\n",
        "            if likelihood == 'classification':\n",
        "                sigma_noise = None\n",
        "            elif likelihood == 'regression':\n",
        "                sigma_noise = torch.exp(log_sigma_noise)\n",
        "            prior_prec = torch.exp(log_prior_prec)\n",
        "            marglik = -lap.log_marginal_likelihood(prior_prec, sigma_noise)\n",
        "            marglik.backward()\n",
        "            hyper_optimizer.step()\n",
        "            margliks.append(marglik.item())\n",
        "        t1 = time.time()\n",
        "\n",
        "\n",
        "        times_hypersteps.append(t1-t0)\n",
        "        if wandb_run is not None:\n",
        "            wandb_run.log({\"Hyperstep time\" : times_hypersteps[-1]}, commit=False)\n",
        "\n",
        "        # early stopping on marginal likelihood\n",
        "        if margliks[-1] < best_marglik:\n",
        "            best_model_dict = deepcopy(model.state_dict())\n",
        "            best_precision = deepcopy(prior_prec.detach())\n",
        "            best_sigma = 1 if likelihood == 'classification' else deepcopy(sigma_noise.detach())\n",
        "            best_marglik = margliks[-1]\n",
        "            print(f'MARGLIK[epoch={epoch}]: marglik optimization. MargLik={best_marglik:.2f}. '\n",
        "                         + 'Saving new best model.')\n",
        "            if wandb_run is not None:\n",
        "                wandb_run.log({\"MargLik\" : best_marglik}, commit=True)\n",
        "\n",
        "        else:\n",
        "            print(f'MARGLIK[epoch={epoch}]: marglik optimization. MargLik={margliks[-1]:.2f}.'\n",
        "                         + f'No improvement over {best_marglik:.2f}')\n",
        "            if wandb_run is not None:\n",
        "                wandb_run.log({\"MargLik\" : best_marglik}, commit=True)\n",
        "\n",
        "    print('MARGLIK: finished training. Recover best model and fit Laplace.')\n",
        "    t0 = time.time()\n",
        "    if best_model_dict is not None:\n",
        "        model.load_state_dict(best_model_dict)\n",
        "        sigma_noise = best_sigma\n",
        "        prior_prec = best_precision\n",
        "    lap = Laplace(\n",
        "        model, likelihood, hessian_structure=hessian_structure, sigma_noise=sigma_noise,\n",
        "        prior_precision=prior_prec, temperature=temperature, backend=backend,\n",
        "        subset_of_weights='all'\n",
        "    )\n",
        "    lap.fit(train_loader)\n",
        "    t1 = time.time()\n",
        "    times_laplace_fit.append(t1-t0)\n",
        "    wandb.log({\"Laplace fit time\" : times_laplace_fit[-1]}, commit=True)\n",
        "    return lap, model, margliks, losses, times_nn, times_laplace_fit, times_hypersteps\n"
      ]
    },
    {
      "cell_type": "markdown",
      "metadata": {
        "id": "W6R9qnj9JBn8"
      },
      "source": [
        "The hyperparemeters are taken accordingly to the authors' experiments. We decrease the number of epochs to 5 since we mostly care about computational performance and not the final accuracy."
      ]
    },
    {
      "cell_type": "code",
      "execution_count": 18,
      "metadata": {
        "id": "dzs6LnNWJBn8"
      },
      "outputs": [],
      "source": [
        "\n",
        "EPOCHS = 5\n",
        "learning_rate = 0.001\n",
        "n_steps = EPOCHS*len(training_loader)\n",
        "lr_min = 1e-6"
      ]
    },
    {
      "cell_type": "code",
      "execution_count": 26,
      "metadata": {
        "colab": {
          "base_uri": "https://localhost:8080/",
          "height": 1000,
          "referenced_widgets": [
            "f54c998e5bd849e2a30c4a6a513a646b",
            "d23d3755ce974c71aa5fe1536d95ab30",
            "04817fb3237e41d9bbbea28cacc1b71c",
            "989bd35de547454a9c5987027d1935f2",
            "02bea9f2e09c4c74b4b97c45112302d8",
            "801f3794fa1848328e1efd566cbc91d4",
            "14bcb37f521b45718b5975e51e4e0a90",
            "2c21fcf0cc02481eb2bcce844621115b"
          ]
        },
        "id": "5RkZR145URTQ",
        "outputId": "f7afde01-38b1-41a8-d73a-ad6736c44c91"
      },
      "outputs": [
        {
          "output_type": "display_data",
          "data": {
            "text/plain": [
              "<IPython.core.display.HTML object>"
            ],
            "text/html": [
              "Finishing last run (ID:4q2srjkk) before initializing another..."
            ]
          },
          "metadata": {}
        },
        {
          "output_type": "display_data",
          "data": {
            "text/plain": [
              "VBox(children=(Label(value='0.001 MB of 0.001 MB uploaded\\r'), FloatProgress(value=1.0, max=1.0)))"
            ],
            "application/vnd.jupyter.widget-view+json": {
              "version_major": 2,
              "version_minor": 0,
              "model_id": "f54c998e5bd849e2a30c4a6a513a646b"
            }
          },
          "metadata": {}
        },
        {
          "output_type": "display_data",
          "data": {
            "text/plain": [
              "<IPython.core.display.HTML object>"
            ],
            "text/html": [
              "<style>\n",
              "    table.wandb td:nth-child(1) { padding: 0 10px; text-align: left ; width: auto;} td:nth-child(2) {text-align: left ; width: 100%}\n",
              "    .wandb-row { display: flex; flex-direction: row; flex-wrap: wrap; justify-content: flex-start; width: 100% }\n",
              "    .wandb-col { display: flex; flex-direction: column; flex-basis: 100%; flex: 1; padding: 10px; }\n",
              "    </style>\n",
              "<div class=\"wandb-row\"><div class=\"wandb-col\"><h3>Run history:</h3><br/><table class=\"wandb\"><tr><td>trainig time</td><td>▂█▃▆▁</td></tr><tr><td>training loss</td><td>█▆▂▂▁</td></tr><tr><td>validation accuracy</td><td>▁▄▅██</td></tr><tr><td>validation loss</td><td>█▄▃▁▁</td></tr></table><br/></div><div class=\"wandb-col\"><h3>Run summary:</h3><br/><table class=\"wandb\"><tr><td>trainig time</td><td>49.70729</td></tr><tr><td>training loss</td><td>0.20463</td></tr><tr><td>validation accuracy</td><td>0.8966</td></tr><tr><td>validation loss</td><td>0.29195</td></tr></table><br/></div></div>"
            ]
          },
          "metadata": {}
        },
        {
          "output_type": "display_data",
          "data": {
            "text/plain": [
              "<IPython.core.display.HTML object>"
            ],
            "text/html": [
              " View run <strong style=\"color:#cdcd00\">boysenberry-cake-31</strong> at: <a href='https://wandb.ai/exexeye/Bayesian-ML/runs/4q2srjkk' target=\"_blank\">https://wandb.ai/exexeye/Bayesian-ML/runs/4q2srjkk</a><br/>Synced 5 W&B file(s), 0 media file(s), 0 artifact file(s) and 0 other file(s)"
            ]
          },
          "metadata": {}
        },
        {
          "output_type": "display_data",
          "data": {
            "text/plain": [
              "<IPython.core.display.HTML object>"
            ],
            "text/html": [
              "Find logs at: <code>./wandb/run-20240314_133808-4q2srjkk/logs</code>"
            ]
          },
          "metadata": {}
        },
        {
          "output_type": "display_data",
          "data": {
            "text/plain": [
              "<IPython.core.display.HTML object>"
            ],
            "text/html": [
              "Successfully finished last run (ID:4q2srjkk). Initializing new run:<br/>"
            ]
          },
          "metadata": {}
        },
        {
          "output_type": "display_data",
          "data": {
            "text/plain": [
              "<IPython.core.display.HTML object>"
            ],
            "text/html": [
              "Tracking run with wandb version 0.16.4"
            ]
          },
          "metadata": {}
        },
        {
          "output_type": "display_data",
          "data": {
            "text/plain": [
              "<IPython.core.display.HTML object>"
            ],
            "text/html": [
              "Run data is saved locally in <code>/content/wandb/run-20240314_141607-z6z0e64p</code>"
            ]
          },
          "metadata": {}
        },
        {
          "output_type": "display_data",
          "data": {
            "text/plain": [
              "<IPython.core.display.HTML object>"
            ],
            "text/html": [
              "Syncing run <strong><a href='https://wandb.ai/exexeye/Bayesian-ML/runs/z6z0e64p' target=\"_blank\">cookie-meringue-32</a></strong> to <a href='https://wandb.ai/exexeye/Bayesian-ML' target=\"_blank\">Weights & Biases</a> (<a href='https://wandb.me/run' target=\"_blank\">docs</a>)<br/>"
            ]
          },
          "metadata": {}
        },
        {
          "output_type": "display_data",
          "data": {
            "text/plain": [
              "<IPython.core.display.HTML object>"
            ],
            "text/html": [
              " View project at <a href='https://wandb.ai/exexeye/Bayesian-ML' target=\"_blank\">https://wandb.ai/exexeye/Bayesian-ML</a>"
            ]
          },
          "metadata": {}
        },
        {
          "output_type": "display_data",
          "data": {
            "text/plain": [
              "<IPython.core.display.HTML object>"
            ],
            "text/html": [
              " View run at <a href='https://wandb.ai/exexeye/Bayesian-ML/runs/z6z0e64p' target=\"_blank\">https://wandb.ai/exexeye/Bayesian-ML/runs/z6z0e64p</a>"
            ]
          },
          "metadata": {}
        },
        {
          "output_type": "stream",
          "name": "stdout",
          "text": [
            "the model is on cuda:0\n",
            "epoch 1\n",
            "  batch 1000 loss: 3.624757436387241\n",
            "  batch 2000 loss: 6.16755478578899\n",
            "  batch 3000 loss: 8.366930919251404\n",
            "  batch 4000 loss: 10.541822311294265\n",
            "  batch 5000 loss: 12.454512380092405\n",
            "  batch 6000 loss: 14.393108335947618\n",
            "  batch 7000 loss: 16.117417417651975\n",
            "  batch 8000 loss: 17.799211156319828\n",
            "  batch 9000 loss: 19.50622331841849\n",
            "  batch 10000 loss: 21.175519060103223\n",
            "  batch 11000 loss: 22.75711616810784\n",
            "  batch 12000 loss: 24.41268183570914\n",
            "  batch 13000 loss: 25.96729712621961\n",
            "  batch 14000 loss: 27.51403656077292\n",
            "  batch 15000 loss: 29.028045988420956\n",
            "69.8289897441864\n",
            "MARGLIK[epoch=1]: network training. Loss=0.484.Perf=0.822\n",
            "MARGLIK[epoch=1]: marglik optimization. MargLik=31494.37. Saving new best model.\n",
            "epoch 2\n",
            "  batch 1000 loss: 1.6992835618704558\n",
            "  batch 2000 loss: 3.3505527228564023\n",
            "  batch 3000 loss: 4.989981591552496\n",
            "  batch 4000 loss: 6.542297879889608\n",
            "  batch 5000 loss: 8.137443295955658\n",
            "  batch 6000 loss: 9.688625100031494\n",
            "  batch 7000 loss: 11.296655730351805\n",
            "  batch 8000 loss: 12.863701402142643\n",
            "  batch 9000 loss: 14.430225324019789\n",
            "  batch 10000 loss: 15.976914207741618\n",
            "  batch 11000 loss: 17.43021407993138\n",
            "  batch 12000 loss: 18.93581011067331\n",
            "  batch 13000 loss: 20.457243971318007\n",
            "  batch 14000 loss: 21.87153446573019\n",
            "  batch 15000 loss: 23.37377454338968\n",
            "68.53785681724548\n",
            "MARGLIK[epoch=2]: network training. Loss=0.390.Perf=0.878\n",
            "MARGLIK[epoch=2]: marglik optimization. MargLik=27691.44. Saving new best model.\n",
            "epoch 3\n",
            "  batch 1000 loss: 1.462704366505146\n",
            "  batch 2000 loss: 2.8276828875243663\n",
            "  batch 3000 loss: 4.2341402078568935\n",
            "  batch 4000 loss: 5.596398727759719\n",
            "  batch 5000 loss: 6.9302873673141\n",
            "  batch 6000 loss: 8.37982012668252\n",
            "  batch 7000 loss: 9.72948589271307\n",
            "  batch 8000 loss: 11.063572751387953\n",
            "  batch 9000 loss: 12.357754425883293\n",
            "  batch 10000 loss: 13.652191650673746\n",
            "  batch 11000 loss: 15.02697866936028\n",
            "  batch 12000 loss: 16.28137016287446\n",
            "  batch 13000 loss: 17.593732432842256\n",
            "  batch 14000 loss: 18.87346276721358\n",
            "  batch 15000 loss: 20.199390854910018\n",
            "69.02434515953064\n",
            "MARGLIK[epoch=3]: network training. Loss=0.337.Perf=0.897\n",
            "MARGLIK[epoch=3]: marglik optimization. MargLik=26399.45. Saving new best model.\n",
            "epoch 4\n",
            "  batch 1000 loss: 1.2290675089508296\n",
            "  batch 2000 loss: 2.46523109292984\n",
            "  batch 3000 loss: 3.6805594268739226\n",
            "  batch 4000 loss: 4.9184828020781275\n",
            "  batch 5000 loss: 6.157695681795478\n",
            "  batch 6000 loss: 7.316216544285417\n",
            "  batch 7000 loss: 8.541906907722353\n",
            "  batch 8000 loss: 9.787507196739316\n",
            "  batch 9000 loss: 11.023385618761182\n",
            "  batch 10000 loss: 12.218351845771075\n",
            "  batch 11000 loss: 13.275343542680144\n",
            "  batch 12000 loss: 14.367466315582394\n",
            "  batch 13000 loss: 15.499182480126619\n",
            "  batch 14000 loss: 16.656370352\n",
            "  batch 15000 loss: 17.75890240971744\n",
            "70.68468451499939\n",
            "MARGLIK[epoch=4]: network training. Loss=0.296.Perf=0.912\n",
            "MARGLIK[epoch=4]: marglik optimization. MargLik=24358.68. Saving new best model.\n",
            "epoch 5\n",
            "  batch 1000 loss: 1.119260837391019\n",
            "  batch 2000 loss: 2.181556572020054\n",
            "  batch 3000 loss: 3.2613208702802656\n",
            "  batch 4000 loss: 4.337782525748015\n",
            "  batch 5000 loss: 5.433205488011241\n",
            "  batch 6000 loss: 6.526137134313584\n",
            "  batch 7000 loss: 7.648319057822228\n",
            "  batch 8000 loss: 8.713417045027018\n",
            "  batch 9000 loss: 9.784948881492019\n",
            "  batch 10000 loss: 10.878229322716594\n",
            "  batch 11000 loss: 11.942228112220764\n",
            "  batch 12000 loss: 13.058639449760317\n",
            "  batch 13000 loss: 14.174963307216764\n",
            "  batch 14000 loss: 15.251301215052605\n",
            "  batch 15000 loss: 16.284015238016845\n",
            "68.89078068733215\n",
            "MARGLIK[epoch=5]: network training. Loss=0.271.Perf=0.922\n",
            "MARGLIK[epoch=5]: marglik optimization. MargLik=23837.93. Saving new best model.\n",
            "MARGLIK: finished training. Recover best model and fit Laplace.\n"
          ]
        }
      ],
      "source": [
        "# run = None\n",
        "\n",
        "run = wandb.init(\n",
        "\n",
        "    project=\"Bayesian-ML\",\n",
        "\n",
        "    config={\n",
        "        \"model\" : \"Laplace\",\n",
        "        \"learning_rate\": learning_rate,\n",
        "        \"epochs\": EPOCHS,\n",
        "        \"min_lr\": lr_min,\n",
        "        \"T_max\": n_steps\n",
        "    },\n",
        ")\n",
        "\n",
        "model_bayes = LeNet().to(device)\n",
        "\n",
        "optimizer = torch.optim.Adam(model_bayes.parameters(), lr=learning_rate)\n",
        "scheduler = torch.optim.lr_scheduler.CosineAnnealingLR(optimizer, T_max=n_steps, eta_min=lr_min)\n",
        "\n",
        "\n",
        "la, model_bayes, margliks, losses, times_nn, times_laplace_fit, times_hypersteps = marglik_training_test(\n",
        "    model=model_bayes,\n",
        "    train_loader=training_loader,\n",
        "    likelihood='classification',\n",
        "    hessian_structure='kron', backend=AsdlGGN, n_epochs=EPOCHS,\n",
        "    optimizer_kwargs={'lr': learning_rate},\n",
        "    scheduler_cls=torch.optim.lr_scheduler.CosineAnnealingLR,\n",
        "    scheduler_kwargs={\"T_max\": n_steps, \"eta_min\": lr_min},\n",
        "    n_hypersteps=100,\n",
        "    marglik_frequency=1,\n",
        "    prior_structure='layerwise',\n",
        "    wandb_run = run\n",
        ")"
      ]
    },
    {
      "cell_type": "code",
      "execution_count": 45,
      "metadata": {
        "colab": {
          "base_uri": "https://localhost:8080/",
          "height": 653
        },
        "id": "UOQDldf8JBn8",
        "outputId": "f9d385e5-b6d9-4bab-8b4b-1027e9679ea5"
      },
      "outputs": [
        {
          "output_type": "display_data",
          "data": {
            "text/plain": [
              "<Figure size 640x480 with 1 Axes>"
            ],
            "image/png": "[encoded data removed]"
          },
          "metadata": {}
        },
        {
          "output_type": "stream",
          "name": "stdout",
          "text": [
            "The average NN training time is: 69.39333138465881\n"
          ]
        },
        {
          "output_type": "display_data",
          "data": {
            "text/plain": [
              "<Figure size 640x480 with 1 Axes>"
            ],
            "image/png": "[encoded data removed]"
          },
          "metadata": {}
        },
        {
          "output_type": "stream",
          "name": "stdout",
          "text": [
            "The average Laplace fit time is: 442.4852791627248\n"
          ]
        },
        {
          "output_type": "display_data",
          "data": {
            "text/plain": [
              "<Figure size 640x480 with 1 Axes>"
            ],
            "image/png": "[encoded data removed]"
          },
          "metadata": {}
        },
        {
          "output_type": "stream",
          "name": "stdout",
          "text": [
            "The average hypersteps time is: 0.49864606857299804\n"
          ]
        }
      ],
      "source": [
        "plt.subplot(3, 1, 1)\n",
        "plt.plot(range(1,6), times_nn)\n",
        "plt.xticks(range(1, 6))\n",
        "plt.xlabel('epoch')\n",
        "plt.ylabel('time (s)')\n",
        "plt.title('NN training times per epoch')\n",
        "plt.show()\n",
        "print(f\"The average NN training time is: {np.mean(times_nn)}\")\n",
        "\n",
        "plt.subplot(3, 1, 2)\n",
        "plt.plot(range(1,7), times_laplace_fit)\n",
        "plt.xticks(range(1, 7))\n",
        "plt.xlabel('epoch')\n",
        "plt.ylabel('time (s)')\n",
        "plt.title('Laplace fitting times per epoch')\n",
        "plt.show()\n",
        "print(f\"The average Laplace fit time is: {np.mean(times_laplace_fit)}\")\n",
        "\n",
        "plt.subplot(3, 1, 3)\n",
        "plt.plot(range(1,6), times_hypersteps)\n",
        "plt.xticks(range(1, 6))\n",
        "plt.xlabel('epoch')\n",
        "plt.ylabel('time (s)')\n",
        "plt.title('Hypersteps times per epoch')\n",
        "plt.show()\n",
        "print(f\"The average hypersteps time is: {np.mean(times_hypersteps)}\")"
      ]
    },
    {
      "cell_type": "markdown",
      "source": [
        "Calculating the validation accuracy"
      ],
      "metadata": {
        "id": "25hNY7_eg34L"
      }
    },
    {
      "cell_type": "code",
      "execution_count": 28,
      "metadata": {
        "id": "8K3hLA1pJBn8"
      },
      "outputs": [],
      "source": [
        "with torch.no_grad():\n",
        "    correct = torch.Tensor().to(device)\n",
        "    for i, vdata in enumerate(validation_loader):\n",
        "        vinputs, vlabels = vdata\n",
        "        vinputs = vinputs.to(device)\n",
        "        vlabels = vlabels.to(device)\n",
        "        voutputs = la(vinputs)\n",
        "        vloss = loss_fn(voutputs, vlabels)\n",
        "        running_vloss += vloss\n",
        "        voutputs = torch.max(voutputs, dim=1)[1]\n",
        "        correct = torch.cat((correct, voutputs==vlabels))\n",
        "\n",
        "    val_acc = torch.sum(correct)/correct.shape[0]"
      ]
    },
    {
      "cell_type": "code",
      "execution_count": 29,
      "metadata": {
        "colab": {
          "base_uri": "https://localhost:8080/"
        },
        "id": "7fAQHsNpJBn9",
        "outputId": "7c4491ed-49cc-4703-fcd5-a43e79aae7fc"
      },
      "outputs": [
        {
          "output_type": "execute_result",
          "data": {
            "text/plain": [
              "tensor(0.9003, device='cuda:0')"
            ]
          },
          "metadata": {},
          "execution_count": 29
        }
      ],
      "source": [
        "val_acc"
      ]
    },
    {
      "cell_type": "markdown",
      "metadata": {
        "id": "sQBgkWOiJBn9"
      },
      "source": [
        "### Convolution filters"
      ]
    },
    {
      "cell_type": "markdown",
      "metadata": {
        "id": "2H-DH9rPJBn9"
      },
      "source": [
        "Here we present MAP estimaties. They are fixed. Rerunnning the cell below keeps filters unchanged."
      ]
    },
    {
      "cell_type": "code",
      "execution_count": 34,
      "metadata": {
        "colab": {
          "base_uri": "https://localhost:8080/",
          "height": 280
        },
        "id": "ZbdGLq0QJBn9",
        "outputId": "311e7552-3345-4808-dd15-5b4eed4c421e"
      },
      "outputs": [
        {
          "output_type": "display_data",
          "data": {
            "text/plain": [
              "<Figure size 1500x1500 with 1 Axes>"
            ],
            "image/png": "[encoded data removed]"
          },
          "metadata": {}
        }
      ],
      "source": [
        "filters = (model_bayes.conv1.weight.clone().cpu())#+model.conv1.bias[:, None, None, None]).clone()\n",
        "out_c, in_c, h, w = filters.shape\n",
        "filters = filters.view(out_c*in_c, -1, h, w)\n",
        "n_col = 16\n",
        "rows = np.min((filters.shape[0] // n_col+1, 32))\n",
        "grid = utils.make_grid(filters, nrow=n_col, normalize=True, padding=1)\n",
        "plt.figure(figsize=(15, 15))\n",
        "plt.imshow(grid.numpy().transpose((1, 2, 0)))\n",
        "plt.show()"
      ]
    },
    {
      "cell_type": "markdown",
      "metadata": {
        "id": "zFh7oJuJJBn-"
      },
      "source": [
        "Now we use the fitted Laplace approximation to demosntrated sampled weights. Each rerun of the cell below resamples model's parameters and demonstrates the filters.\n",
        "\n",
        "The changes of filters are often subtle, thus we additionally print the numeric values of the filters."
      ]
    },
    {
      "cell_type": "code",
      "execution_count": 41,
      "metadata": {
        "colab": {
          "base_uri": "https://localhost:8080/",
          "height": 389
        },
        "id": "Yq6nw66hURTQ",
        "outputId": "47a039d7-36f5-419e-97c9-2fe80e5a8558"
      },
      "outputs": [
        {
          "output_type": "stream",
          "name": "stdout",
          "text": [
            "tensor([[[ 0.1678, -0.3090,  0.0711,  0.0813, -0.0118],\n",
            "         [-0.0624, -0.3573,  0.4270,  0.0800, -0.0162],\n",
            "         [-0.1589, -0.3795,  0.4315,  0.1986, -0.1270],\n",
            "         [-0.2636, -0.2744,  0.1921,  0.1857,  0.1353],\n",
            "         [-0.2040, -0.1233,  0.2492,  0.0839, -0.0140]]],\n",
            "       grad_fn=<SelectBackward0>)\n"
          ]
        },
        {
          "output_type": "display_data",
          "data": {
            "text/plain": [
              "<Figure size 1500x1500 with 1 Axes>"
            ],
            "image/png": "[encoded data removed]"
          },
          "metadata": {}
        }
      ],
      "source": [
        "# we sample all parameters at once\n",
        "vector_to_parameters(la.sample(n_samples=1).view(-1,), model_bayes.parameters())\n",
        "\n",
        "filters = model_bayes.conv1.weight.clone().cpu()#+model.conv1.bias[:, None, None, None]).clone()\n",
        "out_c, in_c, h, w = filters.shape\n",
        "filters = filters.view(out_c*in_c, -1, h, w)\n",
        "n_col = 16\n",
        "rows = np.min((filters.shape[0] // n_col+1, 32))\n",
        "grid = utils.make_grid(filters, nrow=n_col, normalize=True, padding=1)\n",
        "plt.figure(figsize=(15, 15))\n",
        "plt.imshow(grid.numpy().transpose((1, 2, 0)))\n",
        "print(filters[0])\n",
        "plt.show()"
      ]
    }
  ],
  "metadata": {
    "accelerator": "GPU",
    "colab": {
      "gpuType": "T4",
      "provenance": []
    },
    "kernelspec": {
      "display_name": "Python 3",
      "name": "python3"
    },
    "language_info": {
      "codemirror_mode": {
        "name": "ipython",
        "version": 3
      },
      "file_extension": ".py",
      "mimetype": "text/x-python",
      "name": "python",
      "nbconvert_exporter": "python",
      "pygments_lexer": "ipython3",
      "version": "3.11.4"
    },
    "widgets": {
      "application/vnd.jupyter.widget-state+json": {
        "f54c998e5bd849e2a30c4a6a513a646b": {
          "model_module": "@jupyter-widgets/controls",
          "model_name": "VBoxModel",
          "model_module_version": "1.5.0",
          "state": {
            "_dom_classes": [],
            "_model_module": "@jupyter-widgets/controls",
            "_model_module_version": "1.5.0",
            "_model_name": "VBoxModel",
            "_view_count": null,
            "_view_module": "@jupyter-widgets/controls",
            "_view_module_version": "1.5.0",
            "_view_name": "VBoxView",
            "box_style": "",
            "children": [
              "IPY_MODEL_d23d3755ce974c71aa5fe1536d95ab30",
              "IPY_MODEL_04817fb3237e41d9bbbea28cacc1b71c"
            ],
            "layout": "IPY_MODEL_989bd35de547454a9c5987027d1935f2"
          }
        },
        "d23d3755ce974c71aa5fe1536d95ab30": {
          "model_module": "@jupyter-widgets/controls",
          "model_name": "LabelModel",
          "model_module_version": "1.5.0",
          "state": {
            "_dom_classes": [],
            "_model_module": "@jupyter-widgets/controls",
            "_model_module_version": "1.5.0",
            "_model_name": "LabelModel",
            "_view_count": null,
            "_view_module": "@jupyter-widgets/controls",
            "_view_module_version": "1.5.0",
            "_view_name": "LabelView",
            "description": "",
            "description_tooltip": null,
            "layout": "IPY_MODEL_02bea9f2e09c4c74b4b97c45112302d8",
            "placeholder": "​",
            "style": "IPY_MODEL_801f3794fa1848328e1efd566cbc91d4",
            "value": "0.018 MB of 0.018 MB uploaded\r"
          }
        },
        "04817fb3237e41d9bbbea28cacc1b71c": {
          "model_module": "@jupyter-widgets/controls",
          "model_name": "FloatProgressModel",
          "model_module_version": "1.5.0",
          "state": {
            "_dom_classes": [],
            "_model_module": "@jupyter-widgets/controls",
            "_model_module_version": "1.5.0",
            "_model_name": "FloatProgressModel",
            "_view_count": null,
            "_view_module": "@jupyter-widgets/controls",
            "_view_module_version": "1.5.0",
            "_view_name": "ProgressView",
            "bar_style": "",
            "description": "",
            "description_tooltip": null,
            "layout": "IPY_MODEL_14bcb37f521b45718b5975e51e4e0a90",
            "max": 1,
            "min": 0,
            "orientation": "horizontal",
            "style": "IPY_MODEL_2c21fcf0cc02481eb2bcce844621115b",
            "value": 1
          }
        },
        "989bd35de547454a9c5987027d1935f2": {
          "model_module": "@jupyter-widgets/base",
          "model_name": "LayoutModel",
          "model_module_version": "1.2.0",
          "state": {
            "_model_module": "@jupyter-widgets/base",
            "_model_module_version": "1.2.0",
            "_model_name": "LayoutModel",
            "_view_count": null,
            "_view_module": "@jupyter-widgets/base",
            "_view_module_version": "1.2.0",
            "_view_name": "LayoutView",
            "align_content": null,
            "align_items": null,
            "align_self": null,
            "border": null,
            "bottom": null,
            "display": null,
            "flex": null,
            "flex_flow": null,
            "grid_area": null,
            "grid_auto_columns": null,
            "grid_auto_flow": null,
            "grid_auto_rows": null,
            "grid_column": null,
            "grid_gap": null,
            "grid_row": null,
            "grid_template_areas": null,
            "grid_template_columns": null,
            "grid_template_rows": null,
            "height": null,
            "justify_content": null,
            "justify_items": null,
            "left": null,
            "margin": null,
            "max_height": null,
            "max_width": null,
            "min_height": null,
            "min_width": null,
            "object_fit": null,
            "object_position": null,
            "order": null,
            "overflow": null,
            "overflow_x": null,
            "overflow_y": null,
            "padding": null,
            "right": null,
            "top": null,
            "visibility": null,
            "width": null
          }
        },
        "02bea9f2e09c4c74b4b97c45112302d8": {
          "model_module": "@jupyter-widgets/base",
          "model_name": "LayoutModel",
          "model_module_version": "1.2.0",
          "state": {
            "_model_module": "@jupyter-widgets/base",
            "_model_module_version": "1.2.0",
            "_model_name": "LayoutModel",
            "_view_count": null,
            "_view_module": "@jupyter-widgets/base",
            "_view_module_version": "1.2.0",
            "_view_name": "LayoutView",
            "align_content": null,
            "align_items": null,
            "align_self": null,
            "border": null,
            "bottom": null,
            "display": null,
            "flex": null,
            "flex_flow": null,
            "grid_area": null,
            "grid_auto_columns": null,
            "grid_auto_flow": null,
            "grid_auto_rows": null,
            "grid_column": null,
            "grid_gap": null,
            "grid_row": null,
            "grid_template_areas": null,
            "grid_template_columns": null,
            "grid_template_rows": null,
            "height": null,
            "justify_content": null,
            "justify_items": null,
            "left": null,
            "margin": null,
            "max_height": null,
            "max_width": null,
            "min_height": null,
            "min_width": null,
            "object_fit": null,
            "object_position": null,
            "order": null,
            "overflow": null,
            "overflow_x": null,
            "overflow_y": null,
            "padding": null,
            "right": null,
            "top": null,
            "visibility": null,
            "width": null
          }
        },
        "801f3794fa1848328e1efd566cbc91d4": {
          "model_module": "@jupyter-widgets/controls",
          "model_name": "DescriptionStyleModel",
          "model_module_version": "1.5.0",
          "state": {
            "_model_module": "@jupyter-widgets/controls",
            "_model_module_version": "1.5.0",
            "_model_name": "DescriptionStyleModel",
            "_view_count": null,
            "_view_module": "@jupyter-widgets/base",
            "_view_module_version": "1.2.0",
            "_view_name": "StyleView",
            "description_width": ""
          }
        },
        "14bcb37f521b45718b5975e51e4e0a90": {
          "model_module": "@jupyter-widgets/base",
          "model_name": "LayoutModel",
          "model_module_version": "1.2.0",
          "state": {
            "_model_module": "@jupyter-widgets/base",
            "_model_module_version": "1.2.0",
            "_model_name": "LayoutModel",
            "_view_count": null,
            "_view_module": "@jupyter-widgets/base",
            "_view_module_version": "1.2.0",
            "_view_name": "LayoutView",
            "align_content": null,
            "align_items": null,
            "align_self": null,
            "border": null,
            "bottom": null,
            "display": null,
            "flex": null,
            "flex_flow": null,
            "grid_area": null,
            "grid_auto_columns": null,
            "grid_auto_flow": null,
            "grid_auto_rows": null,
            "grid_column": null,
            "grid_gap": null,
            "grid_row": null,
            "grid_template_areas": null,
            "grid_template_columns": null,
            "grid_template_rows": null,
            "height": null,
            "justify_content": null,
            "justify_items": null,
            "left": null,
            "margin": null,
            "max_height": null,
            "max_width": null,
            "min_height": null,
            "min_width": null,
            "object_fit": null,
            "object_position": null,
            "order": null,
            "overflow": null,
            "overflow_x": null,
            "overflow_y": null,
            "padding": null,
            "right": null,
            "top": null,
            "visibility": null,
            "width": null
          }
        },
        "2c21fcf0cc02481eb2bcce844621115b": {
          "model_module": "@jupyter-widgets/controls",
          "model_name": "ProgressStyleModel",
          "model_module_version": "1.5.0",
          "state": {
            "_model_module": "@jupyter-widgets/controls",
            "_model_module_version": "1.5.0",
            "_model_name": "ProgressStyleModel",
            "_view_count": null,
            "_view_module": "@jupyter-widgets/base",
            "_view_module_version": "1.2.0",
            "_view_name": "StyleView",
            "bar_color": null,
            "description_width": ""
          }
        }
      }
    }
  },
  "nbformat": 4,
  "nbformat_minor": 0
}